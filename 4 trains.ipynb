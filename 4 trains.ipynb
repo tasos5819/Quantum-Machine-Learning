{
 "cells": [
  {
   "cell_type": "code",
   "execution_count": 1,
   "metadata": {},
   "outputs": [],
   "source": [
    "import pandas as pd\n",
    "data=pd.read_csv('Iris.csv')"
   ]
  },
  {
   "cell_type": "code",
   "execution_count": 2,
   "metadata": {},
   "outputs": [],
   "source": [
    "data=data.drop(\"PetalLengthCm\",1)\n",
    "data=data.drop(\"PetalWidthCm\",1)"
   ]
  },
  {
   "cell_type": "code",
   "execution_count": 3,
   "metadata": {},
   "outputs": [],
   "source": [
    "data=data[:100]"
   ]
  },
  {
   "cell_type": "code",
   "execution_count": 4,
   "metadata": {},
   "outputs": [
    {
     "data": {
      "text/plain": [
       "Id                            86\n",
       "SepalLengthCm                  6\n",
       "SepalWidthCm                 3.4\n",
       "Species          Iris-versicolor\n",
       "Name: 85, dtype: object"
      ]
     },
     "execution_count": 4,
     "metadata": {},
     "output_type": "execute_result"
    }
   ],
   "source": [
    "data.iloc[85]"
   ]
  },
  {
   "cell_type": "code",
   "execution_count": 5,
   "metadata": {},
   "outputs": [],
   "source": [
    "from sklearn import preprocessing"
   ]
  },
  {
   "cell_type": "code",
   "execution_count": 6,
   "metadata": {},
   "outputs": [],
   "source": [
    "data2=preprocessing.scale(data[['SepalLengthCm','SepalWidthCm']])"
   ]
  },
  {
   "cell_type": "code",
   "execution_count": 7,
   "metadata": {},
   "outputs": [],
   "source": [
    "import numpy as np \n",
    "species=np.zeros(100)\n",
    "for i in range(100):\n",
    "    if i>50:\n",
    "        species[i]=1"
   ]
  },
  {
   "cell_type": "code",
   "execution_count": 8,
   "metadata": {},
   "outputs": [],
   "source": [
    "species=species.astype('int32')"
   ]
  },
  {
   "cell_type": "code",
   "execution_count": 9,
   "metadata": {},
   "outputs": [],
   "source": [
    "data22=pd.DataFrame(data2,columns=[\"SepalLengthCm\",\"SepalWidthCm\"])"
   ]
  },
  {
   "cell_type": "code",
   "execution_count": 10,
   "metadata": {},
   "outputs": [],
   "source": [
    "data22['Species']=species"
   ]
  },
  {
   "cell_type": "code",
   "execution_count": 11,
   "metadata": {},
   "outputs": [],
   "source": [
    "from sklearn.preprocessing import normalize\n",
    "data3 = normalize(data2, axis=1, norm='l2')"
   ]
  },
  {
   "cell_type": "code",
   "execution_count": 12,
   "metadata": {},
   "outputs": [],
   "source": [
    "data33=pd.DataFrame(data3,columns=[\"SepalLengthCm\",\"SepalWidthCm\"])"
   ]
  },
  {
   "cell_type": "code",
   "execution_count": 13,
   "metadata": {},
   "outputs": [
    {
     "data": {
      "text/plain": [
       "SepalLengthCm    0.788610\n",
       "SepalWidthCm     0.614894\n",
       "Name: 85, dtype: float64"
      ]
     },
     "execution_count": 13,
     "metadata": {},
     "output_type": "execute_result"
    }
   ],
   "source": [
    "data33.iloc[85]"
   ]
  },
  {
   "cell_type": "code",
   "execution_count": 14,
   "metadata": {},
   "outputs": [],
   "source": [
    "data33['Species']=species"
   ]
  },
  {
   "cell_type": "code",
   "execution_count": 15,
   "metadata": {},
   "outputs": [],
   "source": [
    "x=data3[:,0]\n",
    "y=data3[:,1]"
   ]
  },
  {
   "cell_type": "code",
   "execution_count": 16,
   "metadata": {},
   "outputs": [],
   "source": [
    "angles=np.array(2*np.arctan2(y,x))"
   ]
  },
  {
   "cell_type": "code",
   "execution_count": 17,
   "metadata": {},
   "outputs": [
    {
     "data": {
      "text/plain": [
       "4.844693632588688"
      ]
     },
     "execution_count": 17,
     "metadata": {},
     "output_type": "execute_result"
    }
   ],
   "source": [
    "angles[7]"
   ]
  },
  {
   "cell_type": "code",
   "execution_count": 18,
   "metadata": {},
   "outputs": [],
   "source": [
    "dataframe_anges=pd.DataFrame(angles)"
   ]
  },
  {
   "cell_type": "code",
   "execution_count": 19,
   "metadata": {},
   "outputs": [],
   "source": [
    "from collections import OrderedDict"
   ]
  },
  {
   "cell_type": "code",
   "execution_count": null,
   "metadata": {},
   "outputs": [],
   "source": []
  },
  {
   "cell_type": "code",
   "execution_count": 20,
   "metadata": {},
   "outputs": [],
   "source": [
    "def circuit(angles1):\n",
    "    from qiskit import QuantumCircuit, QuantumRegister, ClassicalRegister, execute, BasicAer\n",
    "    qbits=QuantumRegister(6)\n",
    "    cbits=ClassicalRegister(6)\n",
    "    qc=QuantumCircuit(qbits,cbits)\n",
    "    qc.h(qbits[0])\n",
    "    qc.h(qbits[1])\n",
    "    qc.h(qbits[2])\n",
    "    qc.barrier()\n",
    "    qc.cry(angles1,qbits[2],qbits[3])\n",
    "    qc.x(qbits[2])\n",
    "    qc.barrier()\n",
    "    qc.mcry(angles[62], [qbits[0],qbits[1],qbits[2]], qbits[3], q_ancillae=[qbits[5]], mode='basic', use_basis_gates=False)\n",
    "    qc.barrier()\n",
    "    qc.cx(qbits[1],qbits[0])   \n",
    "    qc.x(qbits[1])\n",
    "    qc.barrier()\n",
    "    qc.mcry(angles[58], [qbits[0],qbits[1],qbits[2]], qbits[3], q_ancillae=[qbits[5]], mode='basic', use_basis_gates=False)\n",
    "    qc.barrier()\n",
    "    qc.cx(qbits[1],qbits[0])\n",
    "    qc.x(qbits[1])\n",
    "    qc.barrier()\n",
    "    qc.mcry(angles[42], [qbits[0],qbits[1],qbits[2]], qbits[3], q_ancillae=[qbits[5]], mode='basic', use_basis_gates=False)\n",
    "    qc.barrier()\n",
    "    qc.cx(qbits[1],qbits[0])\n",
    "    qc.x(qbits[1])\n",
    "    qc.barrier()\n",
    "    qc.mcry(angles[7], [qbits[0],qbits[1],qbits[2]], qbits[3], q_ancillae=[qbits[5]], mode='basic', use_basis_gates=False)\n",
    "    qc.barrier()\n",
    "    qc.cx(qbits[1],qbits[0])\n",
    "    qc.x(qbits[1])\n",
    "    qc.barrier()\n",
    "    qc.ccx(qbits[0],qbits[1],qbits[4])\n",
    "    qc.cx(qbits[1],qbits[0])\n",
    "    qc.x(qbits[1])\n",
    "    qc.ccx(qbits[0],qbits[1],qbits[4])\n",
    "    qc.barrier()\n",
    "    qc.h(qbits[2])\n",
    "    qc.barrier()\n",
    "    qc.measure(qbits[0],cbits[0])\n",
    "    qc.measure(qbits[1],cbits[1])\n",
    "    qc.measure(qbits[2],cbits[2])\n",
    "    qc.measure(qbits[3],cbits[3])\n",
    "    qc.measure(qbits[4],cbits[4])\n",
    "    shots = 4000\n",
    "    qmlResult = execute(qc, backend = BasicAer.get_backend('qasm_simulator'), shots = shots)\n",
    "    qmlCounts = qmlResult.result().get_counts(qc)\n",
    "    for _ in qmlCounts:\n",
    "       qmlCounts[_] = qmlCounts[_] / shots\n",
    "    qmlProbabilities = OrderedDict(sorted(qmlCounts.items()))\n",
    "    return qmlProbabilities \n"
   ]
  },
  {
   "cell_type": "code",
   "execution_count": 21,
   "metadata": {},
   "outputs": [
    {
     "data": {
      "text/plain": [
       "OrderedDict([('0000001', 0.00225),\n",
       "             ('0000010', 0.00025),\n",
       "             ('0000101', 0.206),\n",
       "             ('0000110', 0.1605),\n",
       "             ('0001001', 0.033),\n",
       "             ('0001010', 0.09775),\n",
       "             ('0001101', 0.015),\n",
       "             ('0010000', 0.092),\n",
       "             ('0010011', 0.18575),\n",
       "             ('0010100', 0.0105),\n",
       "             ('0010111', 0.00175),\n",
       "             ('0011000', 0.00475),\n",
       "             ('0011011', 0.01025),\n",
       "             ('0011100', 0.13125),\n",
       "             ('0011111', 0.049)])"
      ]
     },
     "execution_count": 21,
     "metadata": {},
     "output_type": "execute_result"
    }
   ],
   "source": [
    "circuit(angles[85])"
   ]
  },
  {
   "cell_type": "code",
   "execution_count": 22,
   "metadata": {},
   "outputs": [],
   "source": [
    "lst=[]\n",
    "for i in range(0,100):\n",
    "    lst.append(circuit(angles[i]))"
   ]
  },
  {
   "cell_type": "code",
   "execution_count": 23,
   "metadata": {},
   "outputs": [],
   "source": [
    "df = pd.DataFrame(lst) \n"
   ]
  },
  {
   "cell_type": "code",
   "execution_count": 24,
   "metadata": {},
   "outputs": [],
   "source": [
    "df.fillna(0,inplace=True)"
   ]
  },
  {
   "cell_type": "code",
   "execution_count": 25,
   "metadata": {},
   "outputs": [],
   "source": [
    "df=df.T"
   ]
  },
  {
   "cell_type": "code",
   "execution_count": 26,
   "metadata": {},
   "outputs": [],
   "source": [
    "x=df.index"
   ]
  },
  {
   "cell_type": "code",
   "execution_count": 27,
   "metadata": {},
   "outputs": [],
   "source": [
    "df.drop([x[2],x[3],x[6],x[7],x[10],x[13],x[14],x[15]],inplace=True)"
   ]
  },
  {
   "cell_type": "code",
   "execution_count": 28,
   "metadata": {},
   "outputs": [
    {
     "data": {
      "text/html": [
       "<div>\n",
       "<style scoped>\n",
       "    .dataframe tbody tr th:only-of-type {\n",
       "        vertical-align: middle;\n",
       "    }\n",
       "\n",
       "    .dataframe tbody tr th {\n",
       "        vertical-align: top;\n",
       "    }\n",
       "\n",
       "    .dataframe thead th {\n",
       "        text-align: right;\n",
       "    }\n",
       "</style>\n",
       "<table border=\"1\" class=\"dataframe\">\n",
       "  <thead>\n",
       "    <tr style=\"text-align: right;\">\n",
       "      <th></th>\n",
       "      <th>0</th>\n",
       "      <th>1</th>\n",
       "      <th>2</th>\n",
       "      <th>3</th>\n",
       "      <th>4</th>\n",
       "      <th>5</th>\n",
       "      <th>6</th>\n",
       "      <th>7</th>\n",
       "      <th>8</th>\n",
       "      <th>9</th>\n",
       "      <th>...</th>\n",
       "      <th>90</th>\n",
       "      <th>91</th>\n",
       "      <th>92</th>\n",
       "      <th>93</th>\n",
       "      <th>94</th>\n",
       "      <th>95</th>\n",
       "      <th>96</th>\n",
       "      <th>97</th>\n",
       "      <th>98</th>\n",
       "      <th>99</th>\n",
       "    </tr>\n",
       "  </thead>\n",
       "  <tbody>\n",
       "    <tr>\n",
       "      <th>0000001</th>\n",
       "      <td>0.15650</td>\n",
       "      <td>0.23250</td>\n",
       "      <td>0.23525</td>\n",
       "      <td>0.25075</td>\n",
       "      <td>0.15775</td>\n",
       "      <td>0.06550</td>\n",
       "      <td>0.21175</td>\n",
       "      <td>0.19275</td>\n",
       "      <td>0.24800</td>\n",
       "      <td>0.24200</td>\n",
       "      <td>...</td>\n",
       "      <td>0.04900</td>\n",
       "      <td>0.00000</td>\n",
       "      <td>0.01675</td>\n",
       "      <td>0.11500</td>\n",
       "      <td>0.03125</td>\n",
       "      <td>0.00125</td>\n",
       "      <td>0.00700</td>\n",
       "      <td>0.00000</td>\n",
       "      <td>0.12500</td>\n",
       "      <td>0.01625</td>\n",
       "    </tr>\n",
       "    <tr>\n",
       "      <th>0000010</th>\n",
       "      <td>0.11800</td>\n",
       "      <td>0.19550</td>\n",
       "      <td>0.19675</td>\n",
       "      <td>0.18000</td>\n",
       "      <td>0.10775</td>\n",
       "      <td>0.04300</td>\n",
       "      <td>0.17350</td>\n",
       "      <td>0.14025</td>\n",
       "      <td>0.17950</td>\n",
       "      <td>0.20400</td>\n",
       "      <td>...</td>\n",
       "      <td>0.03425</td>\n",
       "      <td>0.00325</td>\n",
       "      <td>0.00650</td>\n",
       "      <td>0.08400</td>\n",
       "      <td>0.01375</td>\n",
       "      <td>0.00100</td>\n",
       "      <td>0.00050</td>\n",
       "      <td>0.00250</td>\n",
       "      <td>0.08800</td>\n",
       "      <td>0.00325</td>\n",
       "    </tr>\n",
       "    <tr>\n",
       "      <th>0001001</th>\n",
       "      <td>0.06450</td>\n",
       "      <td>0.00075</td>\n",
       "      <td>0.00750</td>\n",
       "      <td>0.00200</td>\n",
       "      <td>0.05225</td>\n",
       "      <td>0.08575</td>\n",
       "      <td>0.02000</td>\n",
       "      <td>0.03950</td>\n",
       "      <td>0.00050</td>\n",
       "      <td>0.00100</td>\n",
       "      <td>...</td>\n",
       "      <td>0.04625</td>\n",
       "      <td>0.00000</td>\n",
       "      <td>0.02950</td>\n",
       "      <td>0.03900</td>\n",
       "      <td>0.04775</td>\n",
       "      <td>0.00950</td>\n",
       "      <td>0.02750</td>\n",
       "      <td>0.00175</td>\n",
       "      <td>0.03425</td>\n",
       "      <td>0.03425</td>\n",
       "    </tr>\n",
       "    <tr>\n",
       "      <th>0001010</th>\n",
       "      <td>0.13200</td>\n",
       "      <td>0.01425</td>\n",
       "      <td>0.04175</td>\n",
       "      <td>0.02850</td>\n",
       "      <td>0.13075</td>\n",
       "      <td>0.16950</td>\n",
       "      <td>0.07675</td>\n",
       "      <td>0.10750</td>\n",
       "      <td>0.01150</td>\n",
       "      <td>0.02725</td>\n",
       "      <td>...</td>\n",
       "      <td>0.00600</td>\n",
       "      <td>0.01375</td>\n",
       "      <td>0.00350</td>\n",
       "      <td>0.00300</td>\n",
       "      <td>0.00675</td>\n",
       "      <td>0.00175</td>\n",
       "      <td>0.00050</td>\n",
       "      <td>0.00625</td>\n",
       "      <td>0.00300</td>\n",
       "      <td>0.00175</td>\n",
       "    </tr>\n",
       "    <tr>\n",
       "      <th>0010000</th>\n",
       "      <td>0.00175</td>\n",
       "      <td>0.02050</td>\n",
       "      <td>0.02125</td>\n",
       "      <td>0.02450</td>\n",
       "      <td>0.00175</td>\n",
       "      <td>0.00850</td>\n",
       "      <td>0.01850</td>\n",
       "      <td>0.00850</td>\n",
       "      <td>0.02250</td>\n",
       "      <td>0.02200</td>\n",
       "      <td>...</td>\n",
       "      <td>0.00875</td>\n",
       "      <td>0.12450</td>\n",
       "      <td>0.05275</td>\n",
       "      <td>0.00000</td>\n",
       "      <td>0.02400</td>\n",
       "      <td>0.10600</td>\n",
       "      <td>0.07100</td>\n",
       "      <td>0.10400</td>\n",
       "      <td>0.00000</td>\n",
       "      <td>0.05125</td>\n",
       "    </tr>\n",
       "    <tr>\n",
       "      <th>0010011</th>\n",
       "      <td>0.01050</td>\n",
       "      <td>0.00000</td>\n",
       "      <td>0.00000</td>\n",
       "      <td>0.00000</td>\n",
       "      <td>0.01225</td>\n",
       "      <td>0.05125</td>\n",
       "      <td>0.00025</td>\n",
       "      <td>0.00350</td>\n",
       "      <td>0.00000</td>\n",
       "      <td>0.00025</td>\n",
       "      <td>...</td>\n",
       "      <td>0.05925</td>\n",
       "      <td>0.24050</td>\n",
       "      <td>0.12400</td>\n",
       "      <td>0.01925</td>\n",
       "      <td>0.09125</td>\n",
       "      <td>0.21450</td>\n",
       "      <td>0.17025</td>\n",
       "      <td>0.24375</td>\n",
       "      <td>0.01975</td>\n",
       "      <td>0.13325</td>\n",
       "    </tr>\n",
       "    <tr>\n",
       "      <th>0010111</th>\n",
       "      <td>0.14300</td>\n",
       "      <td>0.23425</td>\n",
       "      <td>0.23500</td>\n",
       "      <td>0.24875</td>\n",
       "      <td>0.15425</td>\n",
       "      <td>0.06925</td>\n",
       "      <td>0.21625</td>\n",
       "      <td>0.17750</td>\n",
       "      <td>0.22525</td>\n",
       "      <td>0.24525</td>\n",
       "      <td>...</td>\n",
       "      <td>0.05400</td>\n",
       "      <td>0.00000</td>\n",
       "      <td>0.01425</td>\n",
       "      <td>0.11325</td>\n",
       "      <td>0.03625</td>\n",
       "      <td>0.00000</td>\n",
       "      <td>0.00475</td>\n",
       "      <td>0.00000</td>\n",
       "      <td>0.12375</td>\n",
       "      <td>0.01600</td>\n",
       "    </tr>\n",
       "    <tr>\n",
       "      <th>0011000</th>\n",
       "      <td>0.00050</td>\n",
       "      <td>0.08450</td>\n",
       "      <td>0.03900</td>\n",
       "      <td>0.05125</td>\n",
       "      <td>0.00075</td>\n",
       "      <td>0.00050</td>\n",
       "      <td>0.01400</td>\n",
       "      <td>0.00375</td>\n",
       "      <td>0.08775</td>\n",
       "      <td>0.05125</td>\n",
       "      <td>...</td>\n",
       "      <td>0.23875</td>\n",
       "      <td>0.07375</td>\n",
       "      <td>0.20650</td>\n",
       "      <td>0.21400</td>\n",
       "      <td>0.22400</td>\n",
       "      <td>0.12625</td>\n",
       "      <td>0.18075</td>\n",
       "      <td>0.09575</td>\n",
       "      <td>0.20825</td>\n",
       "      <td>0.19750</td>\n",
       "    </tr>\n",
       "  </tbody>\n",
       "</table>\n",
       "<p>8 rows × 100 columns</p>\n",
       "</div>"
      ],
      "text/plain": [
       "              0        1        2        3        4        5        6   \\\n",
       "0000001  0.15650  0.23250  0.23525  0.25075  0.15775  0.06550  0.21175   \n",
       "0000010  0.11800  0.19550  0.19675  0.18000  0.10775  0.04300  0.17350   \n",
       "0001001  0.06450  0.00075  0.00750  0.00200  0.05225  0.08575  0.02000   \n",
       "0001010  0.13200  0.01425  0.04175  0.02850  0.13075  0.16950  0.07675   \n",
       "0010000  0.00175  0.02050  0.02125  0.02450  0.00175  0.00850  0.01850   \n",
       "0010011  0.01050  0.00000  0.00000  0.00000  0.01225  0.05125  0.00025   \n",
       "0010111  0.14300  0.23425  0.23500  0.24875  0.15425  0.06925  0.21625   \n",
       "0011000  0.00050  0.08450  0.03900  0.05125  0.00075  0.00050  0.01400   \n",
       "\n",
       "              7        8        9   ...       90       91       92       93  \\\n",
       "0000001  0.19275  0.24800  0.24200  ...  0.04900  0.00000  0.01675  0.11500   \n",
       "0000010  0.14025  0.17950  0.20400  ...  0.03425  0.00325  0.00650  0.08400   \n",
       "0001001  0.03950  0.00050  0.00100  ...  0.04625  0.00000  0.02950  0.03900   \n",
       "0001010  0.10750  0.01150  0.02725  ...  0.00600  0.01375  0.00350  0.00300   \n",
       "0010000  0.00850  0.02250  0.02200  ...  0.00875  0.12450  0.05275  0.00000   \n",
       "0010011  0.00350  0.00000  0.00025  ...  0.05925  0.24050  0.12400  0.01925   \n",
       "0010111  0.17750  0.22525  0.24525  ...  0.05400  0.00000  0.01425  0.11325   \n",
       "0011000  0.00375  0.08775  0.05125  ...  0.23875  0.07375  0.20650  0.21400   \n",
       "\n",
       "              94       95       96       97       98       99  \n",
       "0000001  0.03125  0.00125  0.00700  0.00000  0.12500  0.01625  \n",
       "0000010  0.01375  0.00100  0.00050  0.00250  0.08800  0.00325  \n",
       "0001001  0.04775  0.00950  0.02750  0.00175  0.03425  0.03425  \n",
       "0001010  0.00675  0.00175  0.00050  0.00625  0.00300  0.00175  \n",
       "0010000  0.02400  0.10600  0.07100  0.10400  0.00000  0.05125  \n",
       "0010011  0.09125  0.21450  0.17025  0.24375  0.01975  0.13325  \n",
       "0010111  0.03625  0.00000  0.00475  0.00000  0.12375  0.01600  \n",
       "0011000  0.22400  0.12625  0.18075  0.09575  0.20825  0.19750  \n",
       "\n",
       "[8 rows x 100 columns]"
      ]
     },
     "execution_count": 28,
     "metadata": {},
     "output_type": "execute_result"
    }
   ],
   "source": [
    "df"
   ]
  },
  {
   "cell_type": "code",
   "execution_count": 29,
   "metadata": {},
   "outputs": [
    {
     "data": {
      "text/plain": [
       "0.2325"
      ]
     },
     "execution_count": 29,
     "metadata": {},
     "output_type": "execute_result"
    }
   ],
   "source": [
    "df.iloc[0][1]"
   ]
  },
  {
   "cell_type": "code",
   "execution_count": 30,
   "metadata": {},
   "outputs": [
    {
     "data": {
      "text/plain": [
       "8"
      ]
     },
     "execution_count": 30,
     "metadata": {},
     "output_type": "execute_result"
    }
   ],
   "source": [
    "len(df)"
   ]
  },
  {
   "cell_type": "code",
   "execution_count": 31,
   "metadata": {},
   "outputs": [],
   "source": [
    "p=[]\n",
    "for i in range(100):\n",
    "    d=sum(df.iloc[0:4][i])/sum(df.iloc[:][i])\n",
    "    p.append(d)\n",
    "             \n",
    "    "
   ]
  },
  {
   "cell_type": "code",
   "execution_count": 32,
   "metadata": {},
   "outputs": [],
   "source": [
    "df3=pd.DataFrame(p,columns=[\"results\"])"
   ]
  },
  {
   "cell_type": "code",
   "execution_count": 33,
   "metadata": {},
   "outputs": [
    {
     "data": {
      "text/plain": [
       "results    0.751496\n",
       "Name: 0, dtype: float64"
      ]
     },
     "execution_count": 33,
     "metadata": {},
     "output_type": "execute_result"
    }
   ],
   "source": [
    "df3.iloc[0]"
   ]
  },
  {
   "cell_type": "code",
   "execution_count": 34,
   "metadata": {},
   "outputs": [
    {
     "data": {
      "text/plain": [
       "<matplotlib.axes._subplots.AxesSubplot at 0x7ff972dabe90>"
      ]
     },
     "execution_count": 34,
     "metadata": {},
     "output_type": "execute_result"
    },
    {
     "data": {
      "image/png": "[encoded data removed]",
      "text/plain": [
       "<Figure size 432x288 with 1 Axes>"
      ]
     },
     "metadata": {
      "needs_background": "light"
     },
     "output_type": "display_data"
    }
   ],
   "source": [
    "df3.plot(kind='bar')"
   ]
  },
  {
   "cell_type": "code",
   "execution_count": 35,
   "metadata": {},
   "outputs": [],
   "source": [
    "df3.loc[df3.results >= 0.5, 'class'] = -1\n",
    "df3.loc[df3.results < 0.5, 'class'] = 1"
   ]
  },
  {
   "cell_type": "code",
   "execution_count": 36,
   "metadata": {},
   "outputs": [
    {
     "data": {
      "text/html": [
       "<div>\n",
       "<style scoped>\n",
       "    .dataframe tbody tr th:only-of-type {\n",
       "        vertical-align: middle;\n",
       "    }\n",
       "\n",
       "    .dataframe tbody tr th {\n",
       "        vertical-align: top;\n",
       "    }\n",
       "\n",
       "    .dataframe thead th {\n",
       "        text-align: right;\n",
       "    }\n",
       "</style>\n",
       "<table border=\"1\" class=\"dataframe\">\n",
       "  <thead>\n",
       "    <tr style=\"text-align: right;\">\n",
       "      <th></th>\n",
       "      <th>results</th>\n",
       "      <th>class</th>\n",
       "    </tr>\n",
       "  </thead>\n",
       "  <tbody>\n",
       "    <tr>\n",
       "      <th>0</th>\n",
       "      <td>0.751496</td>\n",
       "      <td>-1.0</td>\n",
       "    </tr>\n",
       "    <tr>\n",
       "      <th>1</th>\n",
       "      <td>0.566315</td>\n",
       "      <td>-1.0</td>\n",
       "    </tr>\n",
       "    <tr>\n",
       "      <th>2</th>\n",
       "      <td>0.619768</td>\n",
       "      <td>-1.0</td>\n",
       "    </tr>\n",
       "    <tr>\n",
       "      <th>3</th>\n",
       "      <td>0.587019</td>\n",
       "      <td>-1.0</td>\n",
       "    </tr>\n",
       "    <tr>\n",
       "      <th>4</th>\n",
       "      <td>0.726316</td>\n",
       "      <td>-1.0</td>\n",
       "    </tr>\n",
       "    <tr>\n",
       "      <th>...</th>\n",
       "      <td>...</td>\n",
       "      <td>...</td>\n",
       "    </tr>\n",
       "    <tr>\n",
       "      <th>95</th>\n",
       "      <td>0.029332</td>\n",
       "      <td>1.0</td>\n",
       "    </tr>\n",
       "    <tr>\n",
       "      <th>96</th>\n",
       "      <td>0.076798</td>\n",
       "      <td>1.0</td>\n",
       "    </tr>\n",
       "    <tr>\n",
       "      <th>97</th>\n",
       "      <td>0.023128</td>\n",
       "      <td>1.0</td>\n",
       "    </tr>\n",
       "    <tr>\n",
       "      <th>98</th>\n",
       "      <td>0.415698</td>\n",
       "      <td>1.0</td>\n",
       "    </tr>\n",
       "    <tr>\n",
       "      <th>99</th>\n",
       "      <td>0.122381</td>\n",
       "      <td>1.0</td>\n",
       "    </tr>\n",
       "  </tbody>\n",
       "</table>\n",
       "<p>100 rows × 2 columns</p>\n",
       "</div>"
      ],
      "text/plain": [
       "     results  class\n",
       "0   0.751496   -1.0\n",
       "1   0.566315   -1.0\n",
       "2   0.619768   -1.0\n",
       "3   0.587019   -1.0\n",
       "4   0.726316   -1.0\n",
       "..       ...    ...\n",
       "95  0.029332    1.0\n",
       "96  0.076798    1.0\n",
       "97  0.023128    1.0\n",
       "98  0.415698    1.0\n",
       "99  0.122381    1.0\n",
       "\n",
       "[100 rows x 2 columns]"
      ]
     },
     "execution_count": 36,
     "metadata": {},
     "output_type": "execute_result"
    }
   ],
   "source": [
    "df3"
   ]
  },
  {
   "cell_type": "code",
   "execution_count": 37,
   "metadata": {},
   "outputs": [
    {
     "data": {
      "text/plain": [
       "<matplotlib.axes._subplots.AxesSubplot at 0x7ff971ab1d90>"
      ]
     },
     "execution_count": 37,
     "metadata": {},
     "output_type": "execute_result"
    },
    {
     "data": {
      "image/png": "[encoded data removed]",
      "text/plain": [
       "<Figure size 432x288 with 1 Axes>"
      ]
     },
     "metadata": {
      "needs_background": "light"
     },
     "output_type": "display_data"
    }
   ],
   "source": [
    "df3['class'].plot(kind='bar')"
   ]
  },
  {
   "cell_type": "code",
   "execution_count": null,
   "metadata": {},
   "outputs": [],
   "source": []
  }
 ],
 "metadata": {
  "kernelspec": {
   "display_name": "Python 3",
   "language": "python",
   "name": "python3"
  },
  "language_info": {
   "codemirror_mode": {
    "name": "ipython",
    "version": 3
   },
   "file_extension": ".py",
   "mimetype": "text/x-python",
   "name": "python",
   "nbconvert_exporter": "python",
   "pygments_lexer": "ipython3",
   "version": "3.7.6"
  }
 },
 "nbformat": 4,
 "nbformat_minor": 4
}
